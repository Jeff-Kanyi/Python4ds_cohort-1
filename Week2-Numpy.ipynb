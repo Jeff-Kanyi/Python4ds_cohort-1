{
 "cells": [
  {
   "cell_type": "code",
   "execution_count": 2,
   "metadata": {},
   "outputs": [
    {
     "data": {
      "text/plain": [
       "'1.15.1'"
      ]
     },
     "execution_count": 2,
     "metadata": {},
     "output_type": "execute_result"
    }
   ],
   "source": [
    "import numpy\n",
    "numpy .__version__"
   ]
  },
  {
   "cell_type": "code",
   "execution_count": null,
   "metadata": {},
   "outputs": [],
   "source": []
  },
  {
   "cell_type": "code",
   "execution_count": 3,
   "metadata": {},
   "outputs": [
    {
     "name": "stdout",
     "output_type": "stream",
     "text": [
      "> \u001b[0;32m<ipython-input-2-5aa1773ba9f9>\u001b[0m(2)\u001b[0;36m<module>\u001b[0;34m()\u001b[0m\n",
      "\u001b[0;32m      1 \u001b[0;31m\u001b[0;32mimport\u001b[0m \u001b[0mnumpy\u001b[0m\u001b[0;34m\u001b[0m\u001b[0m\n",
      "\u001b[0m\u001b[0;32m----> 2 \u001b[0;31m\u001b[0mnumpy\u001b[0m\u001b[0;34m.\u001b[0m\u001b[0m_version_\u001b[0m\u001b[0;34m\u001b[0m\u001b[0m\n",
      "\u001b[0m\n",
      "ipdb> numpy .__version__\n",
      "'1.15.1'\n",
      "ipdb> quit\n"
     ]
    }
   ],
   "source": [
    "%debug"
   ]
  },
  {
   "cell_type": "markdown",
   "metadata": {},
   "source": [
    "# Numpy Week 2"
   ]
  },
  {
   "cell_type": "code",
   "execution_count": 1,
   "metadata": {},
   "outputs": [],
   "source": [
    "import numpy as np"
   ]
  },
  {
   "cell_type": "markdown",
   "metadata": {},
   "source": [
    "\n",
    "##### creating arrays from scratch"
   ]
  },
  {
   "cell_type": "code",
   "execution_count": 7,
   "metadata": {},
   "outputs": [
    {
     "data": {
      "text/plain": [
       "array([[0.005, 0.005, 0.005, 0.005],\n",
       "       [0.005, 0.005, 0.005, 0.005],\n",
       "       [0.005, 0.005, 0.005, 0.005]])"
      ]
     },
     "execution_count": 7,
     "metadata": {},
     "output_type": "execute_result"
    }
   ],
   "source": [
    "\n",
    "np.full((3,4), 0.005)"
   ]
  },
  {
   "cell_type": "code",
   "execution_count": 9,
   "metadata": {},
   "outputs": [
    {
     "data": {
      "text/plain": [
       "array([ 0,  6, 12, 18, 24])"
      ]
     },
     "execution_count": 9,
     "metadata": {},
     "output_type": "execute_result"
    }
   ],
   "source": [
    "np.arange(0,30,6)"
   ]
  },
  {
   "cell_type": "code",
   "execution_count": 10,
   "metadata": {},
   "outputs": [
    {
     "data": {
      "text/plain": [
       "array([[[2, 1, 0, 7, 0],\n",
       "        [4, 1, 9, 3, 4],\n",
       "        [7, 3, 0, 8, 2],\n",
       "        [8, 8, 7, 0, 1]],\n",
       "\n",
       "       [[7, 5, 5, 3, 7],\n",
       "        [9, 1, 6, 2, 0],\n",
       "        [5, 8, 2, 4, 3],\n",
       "        [2, 2, 0, 7, 3]],\n",
       "\n",
       "       [[8, 0, 9, 0, 6],\n",
       "        [9, 3, 1, 7, 4],\n",
       "        [1, 0, 2, 5, 9],\n",
       "        [8, 8, 2, 9, 7]]])"
      ]
     },
     "execution_count": 10,
     "metadata": {},
     "output_type": "execute_result"
    }
   ],
   "source": [
    "np.random.randint(10, size=(3, 4, 5))   "
   ]
  },
  {
   "cell_type": "code",
   "execution_count": 12,
   "metadata": {},
   "outputs": [],
   "source": [
    "x2 = np.random.randint(10,size = (3,4))"
   ]
  },
  {
   "cell_type": "code",
   "execution_count": 14,
   "metadata": {},
   "outputs": [
    {
     "data": {
      "text/plain": [
       "array([[4, 2, 3, 3],\n",
       "       [1, 0, 8, 1],\n",
       "       [6, 8, 3, 6]])"
      ]
     },
     "execution_count": 14,
     "metadata": {},
     "output_type": "execute_result"
    }
   ],
   "source": [
    "x2"
   ]
  },
  {
   "cell_type": "code",
   "execution_count": 15,
   "metadata": {},
   "outputs": [
    {
     "data": {
      "text/plain": [
       "array([[3, 3, 2, 4],\n",
       "       [1, 8, 0, 1],\n",
       "       [6, 3, 8, 6]])"
      ]
     },
     "execution_count": 15,
     "metadata": {},
     "output_type": "execute_result"
    }
   ],
   "source": [
    "x2[::1,::-1]"
   ]
  },
  {
   "cell_type": "code",
   "execution_count": 16,
   "metadata": {},
   "outputs": [
    {
     "data": {
      "text/plain": [
       "array([[6, 8, 3, 6],\n",
       "       [1, 0, 8, 1],\n",
       "       [4, 2, 3, 3]])"
      ]
     },
     "execution_count": 16,
     "metadata": {},
     "output_type": "execute_result"
    }
   ],
   "source": [
    "x2[::-1,::1]"
   ]
  },
  {
   "cell_type": "code",
   "execution_count": 17,
   "metadata": {},
   "outputs": [
    {
     "name": "stdout",
     "output_type": "stream",
     "text": [
      "[4 1 6]\n"
     ]
    }
   ],
   "source": [
    "print(x2[:, 0])  "
   ]
  },
  {
   "cell_type": "code",
   "execution_count": 18,
   "metadata": {},
   "outputs": [
    {
     "name": "stdout",
     "output_type": "stream",
     "text": [
      "[[4 2 3 3]\n",
      " [1 0 8 1]\n",
      " [6 8 3 6]]\n"
     ]
    }
   ],
   "source": [
    "print(x2[:,])  "
   ]
  },
  {
   "cell_type": "code",
   "execution_count": 20,
   "metadata": {},
   "outputs": [
    {
     "data": {
      "text/plain": [
       "array([[4, 2],\n",
       "       [1, 0],\n",
       "       [6, 8]])"
      ]
     },
     "execution_count": 20,
     "metadata": {},
     "output_type": "execute_result"
    }
   ],
   "source": [
    "x2[::,0:2]"
   ]
  },
  {
   "cell_type": "code",
   "execution_count": 21,
   "metadata": {},
   "outputs": [],
   "source": [
    "x2sub = x2[::,0:2]"
   ]
  },
  {
   "cell_type": "code",
   "execution_count": 22,
   "metadata": {},
   "outputs": [
    {
     "name": "stdout",
     "output_type": "stream",
     "text": [
      "[[77  2  3  3]\n",
      " [ 1  0  8  1]\n",
      " [ 6  8  3  6]]\n"
     ]
    }
   ],
   "source": [
    "x2sub[0,0] = 77\n",
    "print(x2)"
   ]
  },
  {
   "cell_type": "code",
   "execution_count": 29,
   "metadata": {},
   "outputs": [],
   "source": [
    "f = np.arange(1,10).reshape(1,9)"
   ]
  },
  {
   "cell_type": "code",
   "execution_count": 33,
   "metadata": {},
   "outputs": [
    {
     "data": {
      "text/plain": [
       "array([[1, 2, 3, 4, 5, 6, 7, 8, 9]])"
      ]
     },
     "execution_count": 33,
     "metadata": {},
     "output_type": "execute_result"
    }
   ],
   "source": [
    "f"
   ]
  },
  {
   "cell_type": "code",
   "execution_count": 34,
   "metadata": {},
   "outputs": [
    {
     "data": {
      "text/plain": [
       "array([[[1, 2, 3, 4, 5, 6, 7, 8, 9]]])"
      ]
     },
     "execution_count": 34,
     "metadata": {},
     "output_type": "execute_result"
    }
   ],
   "source": [
    "f[:, np.newaxis]"
   ]
  },
  {
   "cell_type": "code",
   "execution_count": 32,
   "metadata": {},
   "outputs": [
    {
     "name": "stdout",
     "output_type": "stream",
     "text": [
      "> \u001b[0;32m<ipython-input-31-766d9638c38c>\u001b[0m(1)\u001b[0;36m<module>\u001b[0;34m()\u001b[0m\n",
      "\u001b[0;32m----> 1 \u001b[0;31m\u001b[0mf\u001b[0m\u001b[0;34m.\u001b[0m\u001b[0mreshape\u001b[0m\u001b[0;34m[\u001b[0m\u001b[0;34m:\u001b[0m\u001b[0;34m,\u001b[0m \u001b[0mnp\u001b[0m\u001b[0;34m.\u001b[0m\u001b[0mnewaxis\u001b[0m\u001b[0;34m]\u001b[0m\u001b[0;34m\u001b[0m\u001b[0m\n",
      "\u001b[0m\n",
      "ipdb> quit\n"
     ]
    }
   ],
   "source": [
    "%debug"
   ]
  },
  {
   "cell_type": "code",
   "execution_count": 35,
   "metadata": {},
   "outputs": [
    {
     "data": {
      "text/plain": [
       "(1, 9)"
      ]
     },
     "execution_count": 35,
     "metadata": {},
     "output_type": "execute_result"
    }
   ],
   "source": [
    "f.shape"
   ]
  },
  {
   "cell_type": "code",
   "execution_count": 36,
   "metadata": {},
   "outputs": [
    {
     "data": {
      "text/plain": [
       "array([[[1, 2, 3, 4, 5, 6, 7, 8, 9]]])"
      ]
     },
     "execution_count": 36,
     "metadata": {},
     "output_type": "execute_result"
    }
   ],
   "source": [
    "f[np.newaxis, :]"
   ]
  },
  {
   "cell_type": "code",
   "execution_count": 38,
   "metadata": {},
   "outputs": [],
   "source": [
    "y = np.array([1,2,3])"
   ]
  },
  {
   "cell_type": "code",
   "execution_count": 39,
   "metadata": {},
   "outputs": [
    {
     "data": {
      "text/plain": [
       "array([[1],\n",
       "       [2],\n",
       "       [3]])"
      ]
     },
     "execution_count": 39,
     "metadata": {},
     "output_type": "execute_result"
    }
   ],
   "source": [
    "y[:,np.newaxis]"
   ]
  },
  {
   "cell_type": "code",
   "execution_count": 40,
   "metadata": {},
   "outputs": [
    {
     "data": {
      "text/plain": [
       "numpy.ndarray"
      ]
     },
     "execution_count": 40,
     "metadata": {},
     "output_type": "execute_result"
    }
   ],
   "source": [
    "type(f)"
   ]
  },
  {
   "cell_type": "code",
   "execution_count": 41,
   "metadata": {},
   "outputs": [
    {
     "data": {
      "text/plain": [
       "numpy.ndarray"
      ]
     },
     "execution_count": 41,
     "metadata": {},
     "output_type": "execute_result"
    }
   ],
   "source": [
    "type(y)"
   ]
  },
  {
   "cell_type": "code",
   "execution_count": 42,
   "metadata": {},
   "outputs": [
    {
     "data": {
      "text/plain": [
       "array([[[1, 2, 3, 4, 5, 6, 7, 8, 9]]])"
      ]
     },
     "execution_count": 42,
     "metadata": {},
     "output_type": "execute_result"
    }
   ],
   "source": [
    "f[:,np.newaxis]"
   ]
  },
  {
   "cell_type": "code",
   "execution_count": 44,
   "metadata": {},
   "outputs": [
    {
     "data": {
      "text/plain": [
       "array([6.93146688e-310, 6.93146688e-310, 0.00000000e+000])"
      ]
     },
     "execution_count": 44,
     "metadata": {},
     "output_type": "execute_result"
    }
   ],
   "source": [
    "np.empty(len(y))"
   ]
  },
  {
   "cell_type": "code",
   "execution_count": 2,
   "metadata": {},
   "outputs": [
    {
     "name": "stdout",
     "output_type": "stream",
     "text": [
      "[1 0 3 2 4]\n"
     ]
    }
   ],
   "source": [
    "x = np.array([2, 1, 4, 3, 5])\n",
    "print(np.argsort(x))"
   ]
  },
  {
   "cell_type": "code",
   "execution_count": 49,
   "metadata": {},
   "outputs": [],
   "source": [
    "m = np.ones((3, 2))"
   ]
  },
  {
   "cell_type": "code",
   "execution_count": 50,
   "metadata": {},
   "outputs": [],
   "source": [
    "p =np.arange(3)"
   ]
  },
  {
   "cell_type": "markdown",
   "metadata": {},
   "source": [
    "##### Centering Data"
   ]
  },
  {
   "cell_type": "code",
   "execution_count": 57,
   "metadata": {},
   "outputs": [],
   "source": [
    "X = np.random.random((10, 3))"
   ]
  },
  {
   "cell_type": "code",
   "execution_count": 61,
   "metadata": {},
   "outputs": [
    {
     "data": {
      "text/plain": [
       "array([[0.5950822 , 0.53555065, 0.00722276],\n",
       "       [0.76684254, 0.76858956, 0.34618502],\n",
       "       [0.32531298, 0.39142587, 0.11348327],\n",
       "       [0.09116874, 0.31643928, 0.74085053],\n",
       "       [0.93180341, 0.70780153, 0.19333411],\n",
       "       [0.03082633, 0.86466263, 0.88300582],\n",
       "       [0.89193815, 0.65743941, 0.05471063],\n",
       "       [0.44906731, 0.69888521, 0.75967826],\n",
       "       [0.71041737, 0.72082969, 0.55306998],\n",
       "       [0.87873268, 0.31756124, 0.97278163]])"
      ]
     },
     "execution_count": 61,
     "metadata": {},
     "output_type": "execute_result"
    }
   ],
   "source": [
    "X"
   ]
  },
  {
   "cell_type": "code",
   "execution_count": 58,
   "metadata": {},
   "outputs": [],
   "source": [
    " Xmean = X.mean(0)"
   ]
  },
  {
   "cell_type": "code",
   "execution_count": 62,
   "metadata": {},
   "outputs": [
    {
     "data": {
      "text/plain": [
       "array([0.56711917, 0.59791851, 0.4624322 ])"
      ]
     },
     "execution_count": 62,
     "metadata": {},
     "output_type": "execute_result"
    }
   ],
   "source": [
    "Xmean"
   ]
  },
  {
   "cell_type": "code",
   "execution_count": 63,
   "metadata": {},
   "outputs": [
    {
     "data": {
      "text/plain": [
       "0.02796303"
      ]
     },
     "execution_count": 63,
     "metadata": {},
     "output_type": "execute_result"
    }
   ],
   "source": [
    "0.5950822-0.56711917"
   ]
  },
  {
   "cell_type": "code",
   "execution_count": null,
   "metadata": {},
   "outputs": [],
   "source": []
  },
  {
   "cell_type": "code",
   "execution_count": 60,
   "metadata": {},
   "outputs": [
    {
     "data": {
      "text/plain": [
       "array([[ 0.02796303, -0.06236786, -0.45520944],\n",
       "       [ 0.19972336,  0.17067106, -0.11624718],\n",
       "       [-0.24180619, -0.20649264, -0.34894893],\n",
       "       [-0.47595043, -0.28147923,  0.27841833],\n",
       "       [ 0.36468424,  0.10988303, -0.26909809],\n",
       "       [-0.53629284,  0.26674412,  0.42057362],\n",
       "       [ 0.32481898,  0.05952091, -0.40772157],\n",
       "       [-0.11805186,  0.1009667 ,  0.29724606],\n",
       "       [ 0.1432982 ,  0.12291118,  0.09063778],\n",
       "       [ 0.31161351, -0.28035727,  0.51034943]])"
      ]
     },
     "execution_count": 60,
     "metadata": {},
     "output_type": "execute_result"
    }
   ],
   "source": [
    "X - Xmean"
   ]
  },
  {
   "cell_type": "code",
   "execution_count": 64,
   "metadata": {},
   "outputs": [
    {
     "data": {
      "text/plain": [
       "array([0.  , 1.25, 2.5 , 3.75, 5.  ])"
      ]
     },
     "execution_count": 64,
     "metadata": {},
     "output_type": "execute_result"
    }
   ],
   "source": [
    "np.linspace(0, 5, 5)"
   ]
  },
  {
   "cell_type": "code",
   "execution_count": 65,
   "metadata": {},
   "outputs": [
    {
     "data": {
      "text/plain": [
       "array([[0.  ],\n",
       "       [1.25],\n",
       "       [2.5 ],\n",
       "       [3.75],\n",
       "       [5.  ]])"
      ]
     },
     "execution_count": 65,
     "metadata": {},
     "output_type": "execute_result"
    }
   ],
   "source": [
    "np.linspace(0,5,5)[:,np.newaxis]"
   ]
  },
  {
   "cell_type": "markdown",
   "metadata": {},
   "source": [
    "##### Getting Summmer Days"
   ]
  },
  {
   "cell_type": "code",
   "execution_count": 6,
   "metadata": {},
   "outputs": [
    {
     "data": {
      "text/plain": [
       "array([-172, -171, -170, -169, -168, -167, -166, -165, -164, -163, -162,\n",
       "       -161, -160, -159, -158, -157, -156, -155, -154, -153, -152, -151,\n",
       "       -150, -149, -148, -147, -146, -145, -144, -143, -142, -141, -140,\n",
       "       -139, -138, -137, -136, -135, -134, -133, -132, -131, -130, -129,\n",
       "       -128, -127, -126, -125, -124, -123, -122, -121, -120, -119, -118,\n",
       "       -117, -116, -115, -114, -113, -112, -111, -110, -109, -108, -107,\n",
       "       -106, -105, -104, -103, -102, -101, -100,  -99,  -98,  -97,  -96,\n",
       "        -95,  -94,  -93,  -92,  -91,  -90,  -89,  -88,  -87,  -86,  -85,\n",
       "        -84,  -83,  -82,  -81,  -80,  -79,  -78,  -77,  -76,  -75,  -74,\n",
       "        -73,  -72,  -71,  -70,  -69,  -68,  -67,  -66,  -65,  -64,  -63,\n",
       "        -62,  -61,  -60,  -59,  -58,  -57,  -56,  -55,  -54,  -53,  -52,\n",
       "        -51,  -50,  -49,  -48,  -47,  -46,  -45,  -44,  -43,  -42,  -41,\n",
       "        -40,  -39,  -38,  -37,  -36,  -35,  -34,  -33,  -32,  -31,  -30,\n",
       "        -29,  -28,  -27,  -26,  -25,  -24,  -23,  -22,  -21,  -20,  -19,\n",
       "        -18,  -17,  -16,  -15,  -14,  -13,  -12,  -11,  -10,   -9,   -8,\n",
       "         -7,   -6,   -5,   -4,   -3,   -2,   -1,    0,    1,    2,    3,\n",
       "          4,    5,    6,    7,    8,    9,   10,   11,   12,   13,   14,\n",
       "         15,   16,   17,   18,   19,   20,   21,   22,   23,   24,   25,\n",
       "         26,   27,   28,   29,   30,   31,   32,   33,   34,   35,   36,\n",
       "         37,   38,   39,   40,   41,   42,   43,   44,   45,   46,   47,\n",
       "         48,   49,   50,   51,   52,   53,   54,   55,   56,   57,   58,\n",
       "         59,   60,   61,   62,   63,   64,   65,   66,   67,   68,   69,\n",
       "         70,   71,   72,   73,   74,   75,   76,   77,   78,   79,   80,\n",
       "         81,   82,   83,   84,   85,   86,   87,   88,   89,   90,   91,\n",
       "         92,   93,   94,   95,   96,   97,   98,   99,  100,  101,  102,\n",
       "        103,  104,  105,  106,  107,  108,  109,  110,  111,  112,  113,\n",
       "        114,  115,  116,  117,  118,  119,  120,  121,  122,  123,  124,\n",
       "        125,  126,  127,  128,  129,  130,  131,  132,  133,  134,  135,\n",
       "        136,  137,  138,  139,  140,  141,  142,  143,  144,  145,  146,\n",
       "        147,  148,  149,  150,  151,  152,  153,  154,  155,  156,  157,\n",
       "        158,  159,  160,  161,  162,  163,  164,  165,  166,  167,  168,\n",
       "        169,  170,  171,  172,  173,  174,  175,  176,  177,  178,  179,\n",
       "        180,  181,  182,  183,  184,  185,  186,  187,  188,  189,  190,\n",
       "        191,  192])"
      ]
     },
     "execution_count": 6,
     "metadata": {},
     "output_type": "execute_result"
    }
   ],
   "source": [
    "np.arange(365) - 172"
   ]
  },
  {
   "cell_type": "code",
   "execution_count": 8,
   "metadata": {},
   "outputs": [
    {
     "data": {
      "text/plain": [
       "array([False, False, False, False, False, False, False, False, False,\n",
       "       False, False, False, False, False, False, False, False, False,\n",
       "       False, False, False, False, False, False, False, False, False,\n",
       "       False, False, False, False, False, False, False, False, False,\n",
       "       False, False, False, False, False, False, False, False, False,\n",
       "       False, False, False, False, False, False, False, False, False,\n",
       "       False, False, False, False, False, False, False, False, False,\n",
       "       False, False, False, False, False, False, False, False, False,\n",
       "       False, False, False, False, False, False, False, False, False,\n",
       "       False, False, False, False, False, False, False, False, False,\n",
       "       False, False, False, False, False, False, False, False, False,\n",
       "       False, False, False, False, False, False, False, False, False,\n",
       "       False, False, False, False, False, False, False, False, False,\n",
       "       False, False, False, False, False, False, False, False, False,\n",
       "       False, False, False, False, False, False, False, False, False,\n",
       "       False, False, False, False, False, False, False, False, False,\n",
       "       False, False, False, False, False, False, False, False, False,\n",
       "       False, False, False, False, False, False, False, False, False,\n",
       "       False, False, False, False, False, False, False, False, False,\n",
       "       False, False,  True,  True,  True,  True,  True,  True,  True,\n",
       "        True,  True,  True,  True,  True,  True,  True,  True,  True,\n",
       "        True,  True,  True,  True,  True,  True,  True,  True,  True,\n",
       "        True,  True,  True,  True,  True,  True,  True,  True,  True,\n",
       "        True,  True,  True,  True,  True,  True,  True,  True,  True,\n",
       "        True,  True,  True,  True,  True,  True,  True,  True,  True,\n",
       "        True,  True,  True,  True,  True,  True,  True,  True,  True,\n",
       "        True,  True,  True,  True,  True,  True,  True,  True,  True,\n",
       "        True,  True,  True,  True,  True,  True,  True,  True,  True,\n",
       "        True,  True,  True,  True,  True,  True,  True,  True,  True,\n",
       "        True, False, False, False, False, False, False, False, False,\n",
       "       False, False, False, False, False, False, False, False, False,\n",
       "       False, False, False, False, False, False, False, False, False,\n",
       "       False, False, False, False, False, False, False, False, False,\n",
       "       False, False, False, False, False, False, False, False, False,\n",
       "       False, False, False, False, False, False, False, False, False,\n",
       "       False, False, False, False, False, False, False, False, False,\n",
       "       False, False, False, False, False, False, False, False, False,\n",
       "       False, False, False, False, False, False, False, False, False,\n",
       "       False, False, False, False, False, False, False, False, False,\n",
       "       False, False, False, False, False, False, False, False, False,\n",
       "       False, False, False, False, False])"
      ]
     },
     "execution_count": 8,
     "metadata": {},
     "output_type": "execute_result"
    }
   ],
   "source": [
    "(np.arange(365) - 172 < 90) & (np.arange(365) - 172 > 0)"
   ]
  },
  {
   "cell_type": "code",
   "execution_count": 9,
   "metadata": {},
   "outputs": [],
   "source": [
    "row = np.array([0, 1, 2])"
   ]
  },
  {
   "cell_type": "code",
   "execution_count": 10,
   "metadata": {},
   "outputs": [
    {
     "data": {
      "text/plain": [
       "array([[0],\n",
       "       [1],\n",
       "       [2]])"
      ]
     },
     "execution_count": 10,
     "metadata": {},
     "output_type": "execute_result"
    }
   ],
   "source": [
    "row[:, np.newaxis]"
   ]
  },
  {
   "cell_type": "code",
   "execution_count": 12,
   "metadata": {},
   "outputs": [],
   "source": [
    "rand = np.random.RandomState(15)"
   ]
  },
  {
   "cell_type": "code",
   "execution_count": 13,
   "metadata": {},
   "outputs": [
    {
     "data": {
      "text/plain": [
       "array([[ 0.15871526,  0.75041164],\n",
       "       [ 0.3360673 ,  0.268205  ],\n",
       "       [ 0.45726524, -0.80497664],\n",
       "       [ 1.42871444,  2.27183262],\n",
       "       [ 0.46323602,  0.60556913],\n",
       "       [ 0.04939727,  0.50371777],\n",
       "       [-0.79415718, -1.47284597],\n",
       "       [ 0.29259513,  1.35516293],\n",
       "       [-0.46184206,  0.61707433],\n",
       "       [-0.63543579, -1.5179716 ],\n",
       "       [ 0.45693803,  0.0401093 ],\n",
       "       [ 0.32285106, -0.45172183],\n",
       "       [ 0.38878586, -1.07302806],\n",
       "       [ 0.53305105,  2.82919628],\n",
       "       [-1.87628173, -3.13353241],\n",
       "       [ 2.24721172,  3.80349297],\n",
       "       [ 1.98798777,  2.96595535],\n",
       "       [-0.02255122, -0.5845285 ],\n",
       "       [ 0.18809983, -0.07653245],\n",
       "       [-0.05124966,  2.09398441]])"
      ]
     },
     "execution_count": 13,
     "metadata": {},
     "output_type": "execute_result"
    }
   ],
   "source": [
    "mean = [0, 0]\n",
    "cov = [[1, 2],[2, 5]]\n",
    "X = rand.multivariate_normal(mean, cov, 20)\n",
    "X"
   ]
  },
  {
   "cell_type": "code",
   "execution_count": null,
   "metadata": {},
   "outputs": [],
   "source": []
  },
  {
   "cell_type": "code",
   "execution_count": 14,
   "metadata": {},
   "outputs": [
    {
     "data": {
      "text/plain": [
       "array([-5.        , -4.47368421, -3.94736842, -3.42105263, -2.89473684,\n",
       "       -2.36842105, -1.84210526, -1.31578947, -0.78947368, -0.26315789,\n",
       "        0.26315789,  0.78947368,  1.31578947,  1.84210526,  2.36842105,\n",
       "        2.89473684,  3.42105263,  3.94736842,  4.47368421,  5.        ])"
      ]
     },
     "execution_count": 14,
     "metadata": {},
     "output_type": "execute_result"
    }
   ],
   "source": [
    "np.linspace(-5, 5, 20)"
   ]
  },
  {
   "cell_type": "code",
   "execution_count": 15,
   "metadata": {},
   "outputs": [
    {
     "name": "stdout",
     "output_type": "stream",
     "text": [
      "[[0.97460664 0.32976593]\n",
      " [0.19542482 0.68404621]\n",
      " [0.35109886 0.77103611]\n",
      " [0.7917995  0.44387459]\n",
      " [0.2688283  0.02390442]\n",
      " [0.37133257 0.09773088]\n",
      " [0.72752255 0.45944443]\n",
      " [0.52049647 0.68456904]\n",
      " [0.4252903  0.60347306]\n",
      " [0.82384911 0.45187126]]\n"
     ]
    }
   ],
   "source": [
    "X = rand.rand(10,2)\n",
    "print(X)"
   ]
  },
  {
   "cell_type": "code",
   "execution_count": 31,
   "metadata": {},
   "outputs": [
    {
     "data": {
      "text/plain": [
       "array([[[0.97460664, 0.32976593]],\n",
       "\n",
       "       [[0.19542482, 0.68404621]],\n",
       "\n",
       "       [[0.35109886, 0.77103611]],\n",
       "\n",
       "       [[0.7917995 , 0.44387459]],\n",
       "\n",
       "       [[0.2688283 , 0.02390442]],\n",
       "\n",
       "       [[0.37133257, 0.09773088]],\n",
       "\n",
       "       [[0.72752255, 0.45944443]],\n",
       "\n",
       "       [[0.52049647, 0.68456904]],\n",
       "\n",
       "       [[0.4252903 , 0.60347306]],\n",
       "\n",
       "       [[0.82384911, 0.45187126]]])"
      ]
     },
     "execution_count": 31,
     "metadata": {},
     "output_type": "execute_result"
    }
   ],
   "source": [
    "X[:,np.newaxis,:]"
   ]
  },
  {
   "cell_type": "code",
   "execution_count": 33,
   "metadata": {},
   "outputs": [
    {
     "data": {
      "text/plain": [
       "array([[[0.97460664, 0.32976593],\n",
       "        [0.19542482, 0.68404621],\n",
       "        [0.35109886, 0.77103611],\n",
       "        [0.7917995 , 0.44387459],\n",
       "        [0.2688283 , 0.02390442],\n",
       "        [0.37133257, 0.09773088],\n",
       "        [0.72752255, 0.45944443],\n",
       "        [0.52049647, 0.68456904],\n",
       "        [0.4252903 , 0.60347306],\n",
       "        [0.82384911, 0.45187126]]])"
      ]
     },
     "execution_count": 33,
     "metadata": {},
     "output_type": "execute_result"
    }
   ],
   "source": [
    "X[np.newaxis,:,:]"
   ]
  },
  {
   "cell_type": "code",
   "execution_count": 27,
   "metadata": {},
   "outputs": [],
   "source": [
    "diff = (X[:,np.newaxis,:] - X[np.newaxis,:,:])"
   ]
  },
  {
   "cell_type": "code",
   "execution_count": 37,
   "metadata": {},
   "outputs": [
    {
     "data": {
      "text/plain": [
       "0.0"
      ]
     },
     "execution_count": 37,
     "metadata": {},
     "output_type": "execute_result"
    }
   ],
   "source": [
    "0.00000000e+00"
   ]
  },
  {
   "cell_type": "code",
   "execution_count": 29,
   "metadata": {},
   "outputs": [
    {
     "data": {
      "text/plain": [
       "array([[[ 0.00000000e+00,  0.00000000e+00],\n",
       "        [ 7.79181813e-01, -3.54280280e-01],\n",
       "        [ 6.23507778e-01, -4.41270181e-01],\n",
       "        [ 1.82807134e-01, -1.14108657e-01],\n",
       "        [ 7.05778334e-01,  3.05861510e-01],\n",
       "        [ 6.03274070e-01,  2.32035053e-01],\n",
       "        [ 2.47084087e-01, -1.29678493e-01],\n",
       "        [ 4.54110161e-01, -3.54803111e-01],\n",
       "        [ 5.49316340e-01, -2.73707125e-01],\n",
       "        [ 1.50757527e-01, -1.22105331e-01]],\n",
       "\n",
       "       [[-7.79181813e-01,  3.54280280e-01],\n",
       "        [ 0.00000000e+00,  0.00000000e+00],\n",
       "        [-1.55674034e-01, -8.69899010e-02],\n",
       "        [-5.96374678e-01,  2.40171623e-01],\n",
       "        [-7.34034780e-02,  6.60141790e-01],\n",
       "        [-1.75907743e-01,  5.86315333e-01],\n",
       "        [-5.32097725e-01,  2.24601787e-01],\n",
       "        [-3.25071652e-01, -5.22830590e-04],\n",
       "        [-2.29865472e-01,  8.05731550e-02],\n",
       "        [-6.28424285e-01,  2.32174949e-01]],\n",
       "\n",
       "       [[-6.23507778e-01,  4.41270181e-01],\n",
       "        [ 1.55674034e-01,  8.69899010e-02],\n",
       "        [ 0.00000000e+00,  0.00000000e+00],\n",
       "        [-4.40700644e-01,  3.27161524e-01],\n",
       "        [ 8.22705560e-02,  7.47131691e-01],\n",
       "        [-2.02337085e-02,  6.73305234e-01],\n",
       "        [-3.76423691e-01,  3.11591688e-01],\n",
       "        [-1.69397618e-01,  8.64670704e-02],\n",
       "        [-7.41914380e-02,  1.67563056e-01],\n",
       "        [-4.72750251e-01,  3.19164850e-01]],\n",
       "\n",
       "       [[-1.82807134e-01,  1.14108657e-01],\n",
       "        [ 5.96374678e-01, -2.40171623e-01],\n",
       "        [ 4.40700644e-01, -3.27161524e-01],\n",
       "        [ 0.00000000e+00,  0.00000000e+00],\n",
       "        [ 5.22971200e-01,  4.19970167e-01],\n",
       "        [ 4.20466936e-01,  3.46143709e-01],\n",
       "        [ 6.42769528e-02, -1.55698362e-02],\n",
       "        [ 2.71303027e-01, -2.40694454e-01],\n",
       "        [ 3.66509206e-01, -1.59598468e-01],\n",
       "        [-3.20496071e-02, -7.99667432e-03]],\n",
       "\n",
       "       [[-7.05778334e-01, -3.05861510e-01],\n",
       "        [ 7.34034780e-02, -6.60141790e-01],\n",
       "        [-8.22705560e-02, -7.47131691e-01],\n",
       "        [-5.22971200e-01, -4.19970167e-01],\n",
       "        [ 0.00000000e+00,  0.00000000e+00],\n",
       "        [-1.02504265e-01, -7.38264576e-02],\n",
       "        [-4.58694247e-01, -4.35540003e-01],\n",
       "        [-2.51668174e-01, -6.60664621e-01],\n",
       "        [-1.56461994e-01, -5.79568635e-01],\n",
       "        [-5.55020807e-01, -4.27966841e-01]],\n",
       "\n",
       "       [[-6.03274070e-01, -2.32035053e-01],\n",
       "        [ 1.75907743e-01, -5.86315333e-01],\n",
       "        [ 2.02337085e-02, -6.73305234e-01],\n",
       "        [-4.20466936e-01, -3.46143709e-01],\n",
       "        [ 1.02504265e-01,  7.38264576e-02],\n",
       "        [ 0.00000000e+00,  0.00000000e+00],\n",
       "        [-3.56189983e-01, -3.61713546e-01],\n",
       "        [-1.49163909e-01, -5.86838163e-01],\n",
       "        [-5.39577295e-02, -5.05742178e-01],\n",
       "        [-4.52516543e-01, -3.54140384e-01]],\n",
       "\n",
       "       [[-2.47084087e-01,  1.29678493e-01],\n",
       "        [ 5.32097725e-01, -2.24601787e-01],\n",
       "        [ 3.76423691e-01, -3.11591688e-01],\n",
       "        [-6.42769528e-02,  1.55698362e-02],\n",
       "        [ 4.58694247e-01,  4.35540003e-01],\n",
       "        [ 3.56189983e-01,  3.61713546e-01],\n",
       "        [ 0.00000000e+00,  0.00000000e+00],\n",
       "        [ 2.07026074e-01, -2.25124618e-01],\n",
       "        [ 3.02232253e-01, -1.44028632e-01],\n",
       "        [-9.63265599e-02,  7.57316189e-03]],\n",
       "\n",
       "       [[-4.54110161e-01,  3.54803111e-01],\n",
       "        [ 3.25071652e-01,  5.22830590e-04],\n",
       "        [ 1.69397618e-01, -8.64670704e-02],\n",
       "        [-2.71303027e-01,  2.40694454e-01],\n",
       "        [ 2.51668174e-01,  6.60664621e-01],\n",
       "        [ 1.49163909e-01,  5.86838163e-01],\n",
       "        [-2.07026074e-01,  2.25124618e-01],\n",
       "        [ 0.00000000e+00,  0.00000000e+00],\n",
       "        [ 9.52061795e-02,  8.10959856e-02],\n",
       "        [-3.03352634e-01,  2.32697779e-01]],\n",
       "\n",
       "       [[-5.49316340e-01,  2.73707125e-01],\n",
       "        [ 2.29865472e-01, -8.05731550e-02],\n",
       "        [ 7.41914380e-02, -1.67563056e-01],\n",
       "        [-3.66509206e-01,  1.59598468e-01],\n",
       "        [ 1.56461994e-01,  5.79568635e-01],\n",
       "        [ 5.39577295e-02,  5.05742178e-01],\n",
       "        [-3.02232253e-01,  1.44028632e-01],\n",
       "        [-9.52061795e-02, -8.10959856e-02],\n",
       "        [ 0.00000000e+00,  0.00000000e+00],\n",
       "        [-3.98558813e-01,  1.51601794e-01]],\n",
       "\n",
       "       [[-1.50757527e-01,  1.22105331e-01],\n",
       "        [ 6.28424285e-01, -2.32174949e-01],\n",
       "        [ 4.72750251e-01, -3.19164850e-01],\n",
       "        [ 3.20496071e-02,  7.99667432e-03],\n",
       "        [ 5.55020807e-01,  4.27966841e-01],\n",
       "        [ 4.52516543e-01,  3.54140384e-01],\n",
       "        [ 9.63265599e-02, -7.57316189e-03],\n",
       "        [ 3.03352634e-01, -2.32697779e-01],\n",
       "        [ 3.98558813e-01, -1.51601794e-01],\n",
       "        [ 0.00000000e+00,  0.00000000e+00]]])"
      ]
     },
     "execution_count": 29,
     "metadata": {},
     "output_type": "execute_result"
    }
   ],
   "source": [
    "diff"
   ]
  },
  {
   "cell_type": "code",
   "execution_count": 38,
   "metadata": {},
   "outputs": [],
   "source": [
    "diff1 = diff**2"
   ]
  },
  {
   "cell_type": "code",
   "execution_count": 44,
   "metadata": {},
   "outputs": [
    {
     "data": {
      "text/plain": [
       "array([[0.        , 0.73263881, 0.58348132, 0.04643923, 0.59167432,\n",
       "        0.41777987, 0.07786706, 0.33210129, 0.37666403, 0.03763754],\n",
       "       [0.73263881, 0.        , 0.03180165, 0.41334517, 0.44117525,\n",
       "        0.3747092 , 0.33357395, 0.10567185, 0.05933017, 0.44882229],\n",
       "       [0.58348132, 0.03180165, 0.        , 0.30125172, 0.56497421,\n",
       "        0.45374934, 0.23878418, 0.03617211, 0.03358175, 0.325359  ],\n",
       "       [0.04643923, 0.41334517, 0.30125172, 0.        , 0.44987382,\n",
       "        0.29660791, 0.00437395, 0.13153915, 0.15980067, 0.00109112],\n",
       "       [0.59167432, 0.44117525, 0.56497421, 0.44987382, 0.        ,\n",
       "        0.01595747, 0.40009551, 0.49981461, 0.36038016, 0.49120371],\n",
       "       [0.41777987, 0.3747092 , 0.45374934, 0.29660791, 0.01595747,\n",
       "        0.        , 0.25770799, 0.3666289 , 0.25868659, 0.33018663],\n",
       "       [0.07786706, 0.33357395, 0.23878418, 0.00437395, 0.40009551,\n",
       "        0.25770799, 0.        , 0.09354089, 0.11208858, 0.00933616],\n",
       "       [0.33210129, 0.10567185, 0.03617211, 0.13153915, 0.49981461,\n",
       "        0.3666289 , 0.09354089, 0.        , 0.01564078, 0.14617108],\n",
       "       [0.37666403, 0.05933017, 0.03358175, 0.15980067, 0.36038016,\n",
       "        0.25868659, 0.11208858, 0.01564078, 0.        , 0.18183223],\n",
       "       [0.03763754, 0.44882229, 0.325359  , 0.00109112, 0.49120371,\n",
       "        0.33018663, 0.00933616, 0.14617108, 0.18183223, 0.        ]])"
      ]
     },
     "execution_count": 44,
     "metadata": {},
     "output_type": "execute_result"
    }
   ],
   "source": [
    "diff1.sum(-1)"
   ]
  },
  {
   "cell_type": "code",
   "execution_count": 45,
   "metadata": {},
   "outputs": [],
   "source": [
    "dist = diff1.sum(-1)"
   ]
  },
  {
   "cell_type": "code",
   "execution_count": 50,
   "metadata": {},
   "outputs": [
    {
     "data": {
      "text/plain": [
       "array([[2.27278320e-02, 1.49097119e-02],\n",
       "       [3.94917082e-01, 5.39052069e-02],\n",
       "       [2.23492800e-01, 1.01866201e-01],\n",
       "       [1.02717731e-03, 6.39468001e-05],\n",
       "       [3.08048096e-01, 1.83155617e-01],\n",
       "       [2.04771221e-01, 1.25415411e-01],\n",
       "       [9.27880614e-03, 5.73527811e-05],\n",
       "       [9.20228203e-02, 5.41482566e-02],\n",
       "       [1.58849128e-01, 2.29831039e-02],\n",
       "       [0.00000000e+00, 0.00000000e+00]])"
      ]
     },
     "execution_count": 50,
     "metadata": {},
     "output_type": "execute_result"
    }
   ],
   "source": [
    "diff1[-1]"
   ]
  },
  {
   "cell_type": "code",
   "execution_count": 48,
   "metadata": {},
   "outputs": [
    {
     "data": {
      "text/plain": [
       "array([0., 0., 0., 0., 0., 0., 0., 0., 0., 0.])"
      ]
     },
     "execution_count": 48,
     "metadata": {},
     "output_type": "execute_result"
    }
   ],
   "source": [
    "dist.diagonal()"
   ]
  },
  {
   "cell_type": "code",
   "execution_count": 51,
   "metadata": {},
   "outputs": [
    {
     "name": "stdout",
     "output_type": "stream",
     "text": [
      "[[0 9 3 6 7 8 5 2 4 1]\n",
      " [1 2 8 7 6 5 3 4 9 0]\n",
      " [2 1 8 7 6 3 9 5 4 0]\n",
      " [3 9 6 0 7 8 5 2 1 4]\n",
      " [4 5 8 6 1 3 9 7 2 0]\n",
      " [5 4 6 8 3 9 7 1 0 2]\n",
      " [6 3 9 0 7 8 2 5 1 4]\n",
      " [7 8 2 6 1 3 9 0 5 4]\n",
      " [8 7 2 1 6 3 9 5 4 0]\n",
      " [9 3 6 0 7 8 2 5 1 4]]\n"
     ]
    }
   ],
   "source": [
    "nearest= np.argsort(dist, axis=1)\n",
    "print(nearest)"
   ]
  },
  {
   "cell_type": "code",
   "execution_count": 52,
   "metadata": {},
   "outputs": [
    {
     "name": "stdout",
     "output_type": "stream",
     "text": [
      "[[0 9 3 6 7 5 8 2 1 4]\n",
      " [1 8 2 7 4 5 6 3 9 0]\n",
      " [1 8 2 7 9 5 6 3 4 0]\n",
      " [3 9 6 0 1 5 2 7 8 4]\n",
      " [4 5 8 6 1 3 9 7 2 0]\n",
      " [4 5 6 8 3 9 1 7 2 0]\n",
      " [3 9 6 0 1 5 2 7 8 4]\n",
      " [8 7 2 6 1 9 3 0 5 4]\n",
      " [8 7 2 1 9 5 6 3 4 0]\n",
      " [3 9 6 0 1 5 2 7 8 4]]\n"
     ]
    }
   ],
   "source": [
    "K = 2\n",
    "nearest_partition= np.argpartition(dist, K + 1, axis=1)\n",
    "print(nearest_partition)"
   ]
  },
  {
   "cell_type": "code",
   "execution_count": 53,
   "metadata": {},
   "outputs": [],
   "source": [
    "import matplotlib.pyplot as plt\n",
    "\n",
    "import seaborn; seaborn.set() # Plot styling"
   ]
  },
  {
   "cell_type": "code",
   "execution_count": 54,
   "metadata": {},
   "outputs": [
    {
     "data": {
      "image/png": "[encoded data removed]",
      "text/plain": [
       "<Figure size 432x288 with 1 Axes>"
      ]
     },
     "metadata": {
      "needs_background": "light"
     },
     "output_type": "display_data"
    }
   ],
   "source": [
    "plt.scatter(X[:, 0], X[:, 1], s=100)\n",
    "# draw lines from each point to its two nearest neighbors\n",
    "K = 2\n",
    "for i in range(X.shape[0]):\n",
    "    for j in nearest_partition[i, :K+1]:\n",
    "        # plot a line from X[i] to X[j]\n",
    "        # use some zip magic to make it happen:\n",
    "        plt.plot(*zip(X[j], X[i]), color='black')\n",
    "        \n"
   ]
  },
  {
   "cell_type": "code",
   "execution_count": null,
   "metadata": {},
   "outputs": [],
   "source": []
  },
  {
   "cell_type": "code",
   "execution_count": null,
   "metadata": {},
   "outputs": [],
   "source": []
  },
  {
   "cell_type": "code",
   "execution_count": null,
   "metadata": {},
   "outputs": [],
   "source": []
  },
  {
   "cell_type": "code",
   "execution_count": null,
   "metadata": {},
   "outputs": [],
   "source": []
  },
  {
   "cell_type": "code",
   "execution_count": null,
   "metadata": {},
   "outputs": [],
   "source": []
  },
  {
   "cell_type": "code",
   "execution_count": null,
   "metadata": {},
   "outputs": [],
   "source": []
  },
  {
   "cell_type": "code",
   "execution_count": null,
   "metadata": {},
   "outputs": [],
   "source": []
  },
  {
   "cell_type": "code",
   "execution_count": null,
   "metadata": {},
   "outputs": [],
   "source": []
  }
 ],
 "metadata": {
  "kernelspec": {
   "display_name": "Python 3",
   "language": "python",
   "name": "python3"
  },
  "language_info": {
   "codemirror_mode": {
    "name": "ipython",
    "version": 3
   },
   "file_extension": ".py",
   "mimetype": "text/x-python",
   "name": "python",
   "nbconvert_exporter": "python",
   "pygments_lexer": "ipython3",
   "version": "3.7.0"
  }
 },
 "nbformat": 4,
 "nbformat_minor": 2
}
